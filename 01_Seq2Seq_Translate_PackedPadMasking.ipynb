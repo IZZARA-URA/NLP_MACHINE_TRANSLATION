{
 "cells": [
  {
   "cell_type": "code",
   "execution_count": null,
   "id": "982dcd7e",
   "metadata": {},
   "outputs": [],
   "source": [
    "# !python -m spacy download en\n",
    "# !python -m spacy download de"
   ]
  },
  {
   "cell_type": "markdown",
   "id": "7dadfcf8",
   "metadata": {},
   "source": [
    "### PREPROCESSING DATA"
   ]
  },
  {
   "cell_type": "code",
   "execution_count": 5,
   "id": "1d6f2eed",
   "metadata": {},
   "outputs": [],
   "source": [
    "def build_vocab(file_path, tokenizer):\n",
    "    counter = Counter()\n",
    "    with io.open(file_path, encoding=\"utf8\") as f: \n",
    "        for string_ in f:\n",
    "            counter.update(tokenizer(string_))\n",
    "    return Vocab(counter)\n",
    "    "
   ]
  },
  {
   "cell_type": "code",
   "execution_count": 6,
   "id": "a1a66855",
   "metadata": {},
   "outputs": [],
   "source": [
    "de_vocab = build_vocab(train_filepaths[0], de_tokenizer)\n",
    "en_vocab = build_vocab(train_filepaths[1], en_tokenizer)"
   ]
  },
  {
   "cell_type": "code",
   "execution_count": 7,
   "id": "c18e305a",
   "metadata": {},
   "outputs": [
    {
     "name": "stdout",
     "output_type": "stream",
     "text": [
      "['Two', 'young', ',', 'White', 'males', 'are', 'outside', 'near', 'many', 'bushes', '.']\n",
      "Counter({'a': 2, 'b': 1, 'Two': 1, 'young': 1, ',': 1, 'White': 1, 'males': 1, 'are': 1, 'outside': 1, 'near': 1, 'many': 1, 'bushes': 1, '.': 1})\n",
      "['Several', 'men', 'in', 'hard', 'hats', 'are', 'operating', 'a', 'giant', 'pulley', 'system', '.']\n",
      "Counter({'a': 3, 'are': 2, '.': 2, 'b': 1, 'Two': 1, 'young': 1, ',': 1, 'White': 1, 'males': 1, 'outside': 1, 'near': 1, 'many': 1, 'bushes': 1, 'Several': 1, 'men': 1, 'in': 1, 'hard': 1, 'hats': 1, 'operating': 1, 'giant': 1, 'pulley': 1, 'system': 1})\n"
     ]
    }
   ],
   "source": [
    "# Visualizing tonize in biuld_vocab\n",
    "data = [\n",
    "    'Two young, White males are outside near many bushes.' \n",
    "    ,'Several men in hard hats are operating a giant pulley system.'\n",
    "    ,'A little girl climbing into a wooden playhouse.'\n",
    "    ,'A man in a blue shirt is standing on a ladder cleaning a window.'\n",
    "    ,'Two men are at the stove preparing food.'\n",
    "    ,'A man in green holds a guitar while the other man observes his shirt.'\n",
    "    ,'A man is smiling at a stuffed lion'\n",
    "    ,'A trendy girl talking on her cellphone while gliding slowly down the street.'\n",
    "    ,'A woman with a large purse is walking by a gate.'\n",
    "]\n",
    "\n",
    "for string_ in data[:2]:\n",
    "    print(en_tokenizer(string_))\n",
    "    counter.update(en_tokenizer(string_))\n",
    "    print(counter)\n"
   ]
  },
  {
   "cell_type": "code",
   "execution_count": 11,
   "id": "a873193f",
   "metadata": {},
   "outputs": [],
   "source": [
    "def data_process(filepaths): \n",
    "    raw_de_iter = iter(io.open(filepaths[0], encoding=\"utf8\"))\n",
    "    raw_en_iter = iter(io.open(filepaths[1], encoding=\"utf8\"))\n",
    "    data = [] \n",
    "    for (raw_de, raw_en) in zip(raw_de_iter, raw_en_iter):\n",
    "        de_tensor = torch.tensor([de_vocab[token] for token in de_tokenizer(raw_de)], dtype=torch.long)\n",
    "        en_tensor = torch.tensor([en_vocab[token] for token in en_tokenizer(raw_en)], dtype=torch.long)\n",
    "        \n",
    "        data.append((de_tensor, en_tensor))\n",
    "    return data"
   ]
  },
  {
   "cell_type": "code",
   "execution_count": 12,
   "id": "88408d79",
   "metadata": {},
   "outputs": [],
   "source": [
    "train_data = data_process(train_filepaths)\n",
    "val_data   = data_process(val_filepaths)\n",
    "test_data  = data_process(test_filepaths)"
   ]
  },
  {
   "cell_type": "code",
   "execution_count": 29,
   "id": "47aaa3dc",
   "metadata": {},
   "outputs": [
    {
     "name": "stdout",
     "output_type": "stream",
     "text": [
      "['Two young, White males are outside near many bushes.\\n', 'Several men in hard hats are operating a giant pulley system.\\n', 'A little girl climbing into a wooden playhouse.\\n', 'A man in a blue shirt is standing on a ladder cleaning a window.\\n', 'Two men are at the stove preparing food.\\n', 'A man in green holds a guitar while the other man observes his shirt.\\n', 'A man is smiling at a stuffed lion\\n', 'A trendy girl talking on her cellphone while gliding slowly down the street.\\n', 'A woman with a large purse is walking by a gate.\\n', 'Boys dancing on poles in the middle of the night.\\n'] \n",
      "\n"
     ]
    }
   ],
   "source": [
    "# Visualize in data process function \n",
    "raw_en_iter = iter(io.open(train_filepaths[1], encoding=\"utf8\"))\n",
    "print(list(raw_en_iter)[:10], \"\\n\")\n",
    "raw_en_iter = list(raw_en_iter)[:10]"
   ]
  },
  {
   "cell_type": "code",
   "execution_count": 30,
   "id": "a8ae3045",
   "metadata": {},
   "outputs": [
    {
     "data": {
      "text/plain": [
       "tensor([17458,  7359, 14847,   302,  7378, 31707,     8,  2323,    45,   615,\n",
       "         9923,    51,  6871, 31707,     9,   248,  3963,  6175,     7,  7378,\n",
       "           71, 14847,  9923,   460, 27623, 29000])"
      ]
     },
     "execution_count": 30,
     "metadata": {},
     "output_type": "execute_result"
    }
   ],
   "source": [
    "torch.tensor([en_vocab[token] for token in en_tokenizer(raw_en)], dtype=torch.long)"
   ]
  },
  {
   "cell_type": "markdown",
   "id": "1770e7ce",
   "metadata": {},
   "source": [
    "### DATALOADER"
   ]
  },
  {
   "cell_type": "code",
   "execution_count": 34,
   "id": "e54b0e45",
   "metadata": {},
   "outputs": [],
   "source": [
    "import torch\n",
    "from torch.nn.utils.rnn import pad_sequence\n",
    "from torch.utils.data import DataLoader\n",
    "\n",
    "device = torch.device('cuda' if torch.cuda.is_available() else 'cpu')\n",
    "\n",
    "batch_size = 32 \n",
    "\n",
    "PAD = de_vocab['<pad>']\n",
    "BOS = de_vocab['<bos>']\n",
    "EOS = de_vocab['<eos>']"
   ]
  },
  {
   "cell_type": "code",
   "execution_count": 74,
   "id": "1da843e6",
   "metadata": {},
   "outputs": [],
   "source": [
    "def generate_batch(data_batch): \n",
    "    de_batch, en_batch = [], [] \n",
    "    for (de_item, en_item) in data_batch: \n",
    "        de_batch.append(torch.cat([torch.tensor([BOS]), de_item, torch.tensor([EOS])], dim=0))\n",
    "        en_batch.append(torch.cat([torch.tensor([BOS]), de_item, torch.tensor([EOS])], dim=0))\n",
    "    de_batch = pad_sequence(de_batch, padding_value=PAD)\n",
    "    en_batch = pad_sequence(en_batch, padding_value=PAD)\n",
    "    return de_batch, en_batch\n",
    "        \n",
    "\n",
    "train_iter = DataLoader(train_data, batch_size=batch_size, shuffle=True, collate_fn=generate_batch)\n",
    "test_iter  = DataLoader(test_data,  batch_size=batch_size, shuffle=True, collate_fn=generate_batch)\n",
    "val_iter   = DataLoader(val_data,   batch_size=batch_size, shuffle=True, collate_fn=generate_batch)"
   ]
  },
  {
   "cell_type": "code",
   "execution_count": 75,
   "id": "a570a3fb",
   "metadata": {},
   "outputs": [
    {
     "name": "stdout",
     "output_type": "stream",
     "text": [
      "de tensor([ 3177,   498,   143,  1662,   490,  3079,   466, 11832,  4501,   383,\n",
      "            2,     5, 28809, 29000])\n",
      "en tensor([ 3116,  2074,  3963,    23,    39,  3716,   870,   569,   120,    19,\n",
      "        27623, 29000])\n",
      "de tensor([  502,  1662,  8838,    33,     9,  4947,     1, 28809, 29000])\n",
      "en tensor([  280,  1612, 14847,   120,   146,  3716,    22, 31707,    43,     3,\n",
      "            6, 27623, 29000])\n",
      "de tensor([13904,   754,  2121,   171, 11832,  4947,     2,   906,    61, 28809,\n",
      "        29000])\n",
      "en tensor([17458,   843,  1667,   193,   711, 31707,   174,     3, 27623, 29000])\n",
      "de tensor([13904,  7805, 11832, 13697,   992,  1202,  1778,  8686,  6750,    56,\n",
      "         8925,    43,  4947,   148, 28809, 29000])\n",
      "en tensor([17458,  7359, 14847, 31707,  1871,  2323,  7524,  1612,  8019, 31707,\n",
      "           60,    60, 31707,   183, 27623, 29000])\n",
      "de tensor([ 3177,  1662,   926,   902,    17,  8925,    78,   232,  1905, 28809,\n",
      "        29000])\n",
      "en tensor([ 3116,  1612,  3716,  2908,  9923,    23,   104,   352, 27623, 29000])\n",
      "de tensor([13904,  7805, 11832,    46,  1310,  3976,   303,  8938,  1386,  4501,\n",
      "          411,  7805,   290,  1202,    12, 28809, 29000])\n",
      "en tensor([17458,  7359, 14847,   920,   322, 31707,   365,  1932,  9923,   660,\n",
      "         7359,    13,  1969,  2323, 27623, 29000])\n",
      "de tensor([13904,  7805,   234,  3479,     3,     3,  3044, 28809, 29000])\n",
      "en tensor([17458,  7359,  7524,   344,  2908, 31707,    32,     7, 29000])\n"
     ]
    }
   ],
   "source": [
    "# Visualize in one batch_size\n",
    "\n",
    "batch = train_data[:7]\n",
    "de_batch, en_batch = [], [] \n",
    "for (de_item, en_item) in batch: \n",
    "    print(\"de\",de_item)\n",
    "    print(\"en\",en_item)\n",
    "    \n",
    "    de_batch.append(torch.cat([torch.tensor([BOS]), de_item, torch.tensor([EOS])], dim=0))\n",
    "    en_batch.append(torch.cat([torch.tensor([BOS]), en_item, torch.tensor([EOS])], dim=0))\n",
    "    "
   ]
  },
  {
   "cell_type": "code",
   "execution_count": 76,
   "id": "340321d1",
   "metadata": {},
   "outputs": [
    {
     "name": "stdout",
     "output_type": "stream",
     "text": [
      "[tensor([0])]\n",
      "[tensor([13904,  7805,   234,  3479,     3,     3,  3044, 28809, 29000])]\n",
      "[tensor([0])]\n"
     ]
    }
   ],
   "source": [
    "print([torch.tensor([BOS])])\n",
    "print([de_item])\n",
    "print([torch.tensor([EOS])])\n",
    "\n",
    "# All will concatenate"
   ]
  },
  {
   "cell_type": "markdown",
   "id": "403f8747",
   "metadata": {},
   "source": [
    "### Defining Model"
   ]
  },
  {
   "cell_type": "code",
   "execution_count": 1,
   "id": "d987ea0c",
   "metadata": {},
   "outputs": [
    {
     "name": "stderr",
     "output_type": "stream",
     "text": [
      "2023-10-02 11:21:17.887695: I tensorflow/core/platform/cpu_feature_guard.cc:193] This TensorFlow binary is optimized with oneAPI Deep Neural Network Library (oneDNN) to use the following CPU instructions in performance-critical operations:  AVX2 AVX512F AVX512_VNNI FMA\n",
      "To enable them in other operations, rebuild TensorFlow with the appropriate compiler flags.\n",
      "2023-10-02 11:21:18.016848: I tensorflow/core/util/port.cc:104] oneDNN custom operations are on. You may see slightly different numerical results due to floating-point round-off errors from different computation orders. To turn them off, set the environment variable `TF_ENABLE_ONEDNN_OPTS=0`.\n",
      "2023-10-02 11:21:18.867714: W tensorflow/compiler/xla/stream_executor/platform/default/dso_loader.cc:64] Could not load dynamic library 'libnvinfer.so.7'; dlerror: libnvinfer.so.7: cannot open shared object file: No such file or directory; LD_LIBRARY_PATH: /opt/conda/lib/python3.8/site-packages/torch/lib:/opt/conda/lib/python3.8/site-packages/torch_tensorrt/lib:/usr/local/cuda/compat/lib:/usr/local/nvidia/lib:/usr/local/nvidia/lib64\n",
      "2023-10-02 11:21:18.867782: W tensorflow/compiler/xla/stream_executor/platform/default/dso_loader.cc:64] Could not load dynamic library 'libnvinfer_plugin.so.7'; dlerror: libnvinfer_plugin.so.7: cannot open shared object file: No such file or directory; LD_LIBRARY_PATH: /opt/conda/lib/python3.8/site-packages/torch/lib:/opt/conda/lib/python3.8/site-packages/torch_tensorrt/lib:/usr/local/cuda/compat/lib:/usr/local/nvidia/lib:/usr/local/nvidia/lib64\n",
      "2023-10-02 11:21:18.867788: W tensorflow/compiler/tf2tensorrt/utils/py_utils.cc:38] TF-TRT Warning: Cannot dlopen some TensorRT libraries. If you would like to use Nvidia GPU with TensorRT, please make sure the missing libraries mentioned above are installed properly.\n"
     ]
    }
   ],
   "source": [
    "import torch\n",
    "import torch.nn as nn\n",
    "import torch.optim as optim\n",
    "import torch.nn.functional as F\n",
    "\n",
    "from torchtext.legacy.datasets import Multi30k\n",
    "from torchtext.legacy.data import Field, BucketIterator\n",
    "\n",
    "import matplotlib.pyplot as plt\n",
    "import matplotlib.ticker as ticker\n",
    "\n",
    "import spacy\n",
    "import numpy as np\n",
    "\n",
    "import random\n",
    "import math\n",
    "import time\n",
    "\n",
    "SEED = 1234\n",
    "\n",
    "random.seed(SEED)\n",
    "np.random.seed(SEED)\n",
    "torch.manual_seed(SEED)\n",
    "torch.cuda.manual_seed(SEED)\n",
    "torch.backends.cudnn.deterministic = True\n",
    "\n",
    "\n",
    "spacy_de = spacy.load('de_core_news_sm')\n",
    "spacy_en = spacy.load('en_core_web_sm')\n",
    "    \n",
    "    \n",
    "def tokenize_de(text): \n",
    "    return [tok.text for tok in spacy_de.tokenizer(text)]\n",
    "\n",
    "def tokenize_en(text): \n",
    "    return [tok.text for tok in spacy_en.tokenizer(text)]"
   ]
  },
  {
   "cell_type": "code",
   "execution_count": 2,
   "id": "22dc4bc3",
   "metadata": {},
   "outputs": [],
   "source": [
    "SRC = Field(tokenize = tokenize_de, \n",
    "            init_token='<sos>', \n",
    "            eos_token='<eos>', \n",
    "            lower=True, \n",
    "            include_lengths = True)\n",
    "\n",
    "TRG = Field(tokenize = tokenize_en, \n",
    "            init_token='<sos>', \n",
    "            eos_token='<eos>', \n",
    "            lower=True)"
   ]
  },
  {
   "cell_type": "code",
   "execution_count": 3,
   "id": "d040bbe2",
   "metadata": {},
   "outputs": [],
   "source": [
    "train_data, valid_data, test_data = Multi30k.splits(exts = ('.de', '.en'), fields = (SRC, TRG))"
   ]
  },
  {
   "cell_type": "code",
   "execution_count": 4,
   "id": "c9b18e11",
   "metadata": {},
   "outputs": [],
   "source": [
    "SRC.build_vocab(train_data, min_freq = 2)\n",
    "TRG.build_vocab(train_data, min_freq = 2)"
   ]
  },
  {
   "cell_type": "code",
   "execution_count": 5,
   "id": "db97736d",
   "metadata": {},
   "outputs": [],
   "source": [
    "batch_size = 128 * 2\n",
    "device = torch.device('cuda' if torch.cuda.is_available() else 'cpu')\n",
    "\n",
    "train_iterator, valid_iterator, test_iterator = BucketIterator.splits(\n",
    "    (train_data, valid_data, test_data),\n",
    "    batch_size = batch_size,\n",
    "    sort_within_batch = True,\n",
    "    sort_key = lambda x:len(x.src),\n",
    "    device = device\n",
    ")"
   ]
  },
  {
   "cell_type": "markdown",
   "id": "dc8a5acf",
   "metadata": {},
   "source": [
    "### DEFINING THE MODEL"
   ]
  },
  {
   "cell_type": "code",
   "execution_count": 6,
   "id": "1d02b6ff",
   "metadata": {},
   "outputs": [],
   "source": [
    "\n",
    "class Encoder(nn.Module): \n",
    "    def __init__(\n",
    "        self, \n",
    "        input_dim, \n",
    "        emb_dim, \n",
    "        enc_hid_dim,\n",
    "        dec_hid_dim, \n",
    "        dropout\n",
    "    ):\n",
    "        super().__init__()\n",
    "        self.embedding = nn.Embedding(input_dim, emb_dim)\n",
    "        self.rnn = nn.GRU(emb_dim, enc_hid_dim, bidirectional = True)\n",
    "        self.fc = nn.Linear(enc_hid_dim * 2, dec_hid_dim)\n",
    "        self.dropout = nn.Dropout(dropout)\n",
    "        \n",
    "    def forward(self, src, src_len):\n",
    "        embedded = self.dropout(self.embedding(src))\n",
    "        packed_embedded = nn.utils.rnn.pack_padded_sequence(embedded, src_len.to('cpu'))\n",
    "        packed_outputs, hidden = self.rnn(packed_embedded)\n",
    "        outputs, _ = nn.utils.rnn.pad_packed_sequence(packed_outputs) \n",
    "        hidden = torch.tanh(self.fc(torch.cat((hidden[-2,:,:], hidden[-1,:,:]), dim = 1)))\n",
    "        return outputs, hidden\n",
    "    \n",
    "class Attention(nn.Module): \n",
    "    def __init__(\n",
    "        self,\n",
    "        enc_hid_dim,\n",
    "        dec_hid_dim,    \n",
    "    ):\n",
    "        super().__init__()\n",
    "        self.atten = nn.Linear((enc_hid_dim * 2) + dec_hid_dim, dec_hid_dim)\n",
    "        self.v = nn.Linear(dec_hid_dim, 1, bias = False)\n",
    "        \n",
    "    def forward(\n",
    "        self,\n",
    "        hidden,\n",
    "        encoder_outputs,\n",
    "        mask\n",
    "    ): \n",
    "        batch_size = encoder_outputs.shape[1]\n",
    "        src_len = encoder_outputs.shape[0]\n",
    "        hidden = hidden.unsqueeze(1).repeat(1, src_len, 1)\n",
    "        encoder_outputs = encoder_outputs.permute(1, 0, 2)\n",
    "        energy = torch.tanh(self.atten(torch.cat((hidden, encoder_outputs), dim = 2)))\n",
    "        attention = self.v(energy).squeeze(2)\n",
    "        attention = attention.masked_fill(mask == 0, -1e10)\n",
    "        return F.softmax(attention, dim = 1)\n",
    "    \n",
    "class Decoder(nn.Module):\n",
    "    def __init__(\n",
    "        self, \n",
    "        output_dim, \n",
    "        emb_dim, \n",
    "        enc_hid_dim,\n",
    "        dec_hid_dim, \n",
    "        dropout, \n",
    "        attention\n",
    "    ):\n",
    "        super().__init__()\n",
    "        self.output_dim = output_dim\n",
    "        self.attention = attention\n",
    "        self.embedding = nn.Embedding(output_dim, emb_dim)\n",
    "        self.rnn = nn.GRU((enc_hid_dim * 2) + emb_dim, dec_hid_dim)\n",
    "        self.fc_out = nn.Linear((enc_hid_dim * 2) + dec_hid_dim + emb_dim, output_dim)\n",
    "        self.dropout = nn.Dropout(dropout)\n",
    "        \n",
    "    def forward(\n",
    "        self,\n",
    "        input_,\n",
    "        hidden,\n",
    "        encoder_outputs,\n",
    "        mask\n",
    "    ):\n",
    "        input_ = input_.unsqueeze(0)\n",
    "        embedded = self.dropout(self.embedding(input_))\n",
    "        a = self.attention(hidden, encoder_outputs, mask)\n",
    "        a = a.unsqueeze(1)\n",
    "        encoder_outputs = encoder_outputs.permute(1, 0, 2)\n",
    "        weighted = torch.bmm(a, encoder_outputs)\n",
    "        weighted = weighted.permute(1, 0, 2)\n",
    "        rnn_input = torch.cat((embedded, weighted), dim = 2)\n",
    "        output, hidden = self.rnn(rnn_input, hidden.unsqueeze(0))\n",
    "        \n",
    "        assert (output == hidden).all()\n",
    "        embedded = embedded.squeeze(0)\n",
    "        output = output.squeeze(0)\n",
    "        weighted = weighted.squeeze(0)\n",
    "        prediction = self.fc_out(torch.cat((output, weighted, embedded), dim = 1))\n",
    "        return prediction, hidden.squeeze(0), a.squeeze(1)\n",
    "    \n",
    "    \n",
    "class Seq2Seq(nn.Module):\n",
    "    def __init__(\n",
    "        self, \n",
    "        encoder,\n",
    "        decoder,\n",
    "        src_pad_idx, \n",
    "        device\n",
    "    ):\n",
    "        super().__init__()\n",
    "        self.encoder = encoder \n",
    "        self.decoder = decoder \n",
    "        self.src_pad_idx = src_pad_idx\n",
    "        self.device = device \n",
    "        \n",
    "    def create_mask(self, src):\n",
    "        mask = (src != self.src_pad_idx).permute(1, 0)\n",
    "        return mask \n",
    "    \n",
    "    def forward(\n",
    "        self,\n",
    "        src,\n",
    "        src_len,\n",
    "        trg,\n",
    "        teacher_forcing_ratio = 0.5\n",
    "    ):\n",
    "        batch_size = src.shape[1]\n",
    "        trg_len = trg.shape[0]\n",
    "        trg_vocab_size = self.decoder.output_dim \n",
    "        outputs = torch.zeros(trg_len, batch_size, trg_vocab_size).to(self.device)\n",
    "        encoder_outputs, hidden = self.encoder(src, src_len)\n",
    "        input_ = trg[0,:]\n",
    "        mask = self.create_mask(src)\n",
    "        \n",
    "        for t in range(1, trg_len):\n",
    "            output, hidden, _ = self.decoder(input_, hidden, encoder_outputs, mask)\n",
    "            outputs[t] = output\n",
    "            teacher_force = random.random() < teacher_forcing_ratio\n",
    "            top1 = output.argmax(1)\n",
    "            input_ = trg[t] if teacher_force else top1\n",
    "            \n",
    "        return outputs\n",
    "        "
   ]
  },
  {
   "cell_type": "code",
   "execution_count": 8,
   "id": "2d6853e6",
   "metadata": {},
   "outputs": [],
   "source": [
    "input_dim = len(SRC.vocab)\n",
    "output_dim = len(TRG.vocab)\n",
    "encoder_embedded_dim = 256\n",
    "decoder_embedded_dim = 256\n",
    "encoder_hidden_dim = 512\n",
    "decoder_hidden_dim = 512\n",
    "encoder_dropout = 0.5\n",
    "decoder_dropout = 0.5\n",
    "\n",
    "attention = Attention(\n",
    "                      encoder_hidden_dim, \n",
    "                      decoder_hidden_dim\n",
    "                     )\n",
    "\n",
    "encoder = Encoder(\n",
    "              input_dim, \n",
    "              encoder_embedded_dim, \n",
    "              encoder_hidden_dim, \n",
    "              decoder_hidden_dim, \n",
    "              encoder_dropout\n",
    "             )\n",
    "\n",
    "decoder = Decoder(\n",
    "              output_dim, \n",
    "              decoder_embedded_dim, \n",
    "              encoder_hidden_dim, \n",
    "              decoder_hidden_dim, \n",
    "              decoder_dropout, \n",
    "              attention\n",
    "             )\n",
    "\n",
    "model = Seq2Seq(encoder, decoder, src_pad, device).to(device)\n",
    "\n",
    "src_pad = SRC.vocab.stoi[SRC.pad_token]\n",
    "TRG_PAD_IDX = TRG.vocab.stoi[TRG.pad_token]\n",
    "\n",
    "criterion = nn.CrossEntropyLoss(ignore_index = TRG_PAD_IDX)\n",
    "optimizer = optim.Adam(model.parameters())\n",
    "\n"
   ]
  },
  {
   "cell_type": "code",
   "execution_count": 9,
   "id": "a775cf29",
   "metadata": {},
   "outputs": [
    {
     "name": "stdout",
     "output_type": "stream",
     "text": [
      "The model has 20,518,405 trainable parameters\n"
     ]
    }
   ],
   "source": [
    "def init_weights(m):\n",
    "    for name, param in m.named_parameters():\n",
    "        if 'weight' in name:\n",
    "            nn.init.normal_(param.data, mean=0, std=0.01)\n",
    "        else:\n",
    "            nn.init.constant_(param.data, 0)\n",
    "            \n",
    "model.apply(init_weights)\n",
    "\n",
    "def count_parameters(model):\n",
    "    return sum(p.numel() for p in model.parameters() if p.requires_grad)\n",
    "\n",
    "print(f'The model has {count_parameters(model):,} trainable parameters')\n",
    "\n",
    "def epoch_time(start_time, end_time):\n",
    "    elapsed_time = end_time - start_time\n",
    "    elapsed_mins = int(elapsed_time / 60)\n",
    "    elapsed_secs = int(elapsed_time - (elapsed_mins * 60))\n",
    "    return elapsed_mins, elapsed_secs"
   ]
  },
  {
   "cell_type": "code",
   "execution_count": 10,
   "id": "6b4dfaf8",
   "metadata": {},
   "outputs": [],
   "source": [
    "\n",
    "def train(\n",
    "    model, \n",
    "    iterator, \n",
    "    optimizer, \n",
    "    criterion, \n",
    "    clip\n",
    "):\n",
    "    model.train()\n",
    "    epoch_loss = 0\n",
    "    \n",
    "    for i, batch in enumerate(iterator):\n",
    "        src, src_len = batch.src\n",
    "        trg = batch.trg\n",
    "        optimizer.zero_grad()\n",
    "        \n",
    "        output = model(src, src_len, trg)\n",
    "        output_dim = output.shape[-1]\n",
    "        output = output[1:].view(-1, output_dim)\n",
    "        \n",
    "        trg = trg[1:].view(-1)\n",
    "        \n",
    "        loss = criterion(output, trg)\n",
    "        loss.backward()\n",
    "        torch.nn.utils.clip_grad_norm_(model.parameters(), clip)\n",
    "        optimizer.step()\n",
    "        epoch_loss += loss.item()\n",
    "        \n",
    "    return epoch_loss / len(iterator)\n",
    "\n",
    "def evaluate(\n",
    "    model, \n",
    "    iterator, \n",
    "    criterion\n",
    "):\n",
    "    model.eval()\n",
    "    epoch_loss = 0\n",
    "    with torch.no_grad():\n",
    "        for i, batch in enumerate(iterator):\n",
    "            src, src_len = batch.src\n",
    "            trg = batch.trg\n",
    "            output = model(src, src_len, trg, 0) \n",
    "            output_dim = output.shape[-1]\n",
    "            output = output[1:].view(-1, output_dim)\n",
    "            trg = trg[1:].view(-1)\n",
    "            loss = criterion(output, trg)\n",
    "            epoch_loss += loss.item()\n",
    "    \n",
    "    return epoch_loss / len(iterator)\n",
    "    "
   ]
  },
  {
   "cell_type": "code",
   "execution_count": 11,
   "id": "34f50158",
   "metadata": {},
   "outputs": [
    {
     "name": "stdout",
     "output_type": "stream",
     "text": [
      "Epoch: 01 | Time: 0m 22s\n",
      "\tTrain Loss: 5.398 | Train PPL: 220.908\n",
      "\t Val. Loss: 4.855 |  Val. PPL: 128.426\n",
      "Epoch: 02 | Time: 0m 21s\n",
      "\tTrain Loss: 4.499 | Train PPL:  89.936\n",
      "\t Val. Loss: 4.724 |  Val. PPL: 112.563\n",
      "Epoch: 03 | Time: 0m 21s\n",
      "\tTrain Loss: 4.168 | Train PPL:  64.560\n",
      "\t Val. Loss: 4.482 |  Val. PPL:  88.449\n",
      "Epoch: 04 | Time: 0m 21s\n",
      "\tTrain Loss: 3.750 | Train PPL:  42.530\n",
      "\t Val. Loss: 4.026 |  Val. PPL:  56.042\n",
      "Epoch: 05 | Time: 0m 21s\n",
      "\tTrain Loss: 3.335 | Train PPL:  28.065\n",
      "\t Val. Loss: 3.757 |  Val. PPL:  42.817\n",
      "Epoch: 06 | Time: 0m 21s\n",
      "\tTrain Loss: 2.973 | Train PPL:  19.547\n",
      "\t Val. Loss: 3.538 |  Val. PPL:  34.394\n",
      "Epoch: 07 | Time: 0m 21s\n",
      "\tTrain Loss: 2.692 | Train PPL:  14.759\n",
      "\t Val. Loss: 3.332 |  Val. PPL:  27.994\n",
      "Epoch: 08 | Time: 0m 21s\n",
      "\tTrain Loss: 2.416 | Train PPL:  11.203\n",
      "\t Val. Loss: 3.347 |  Val. PPL:  28.430\n",
      "Epoch: 09 | Time: 0m 21s\n",
      "\tTrain Loss: 2.194 | Train PPL:   8.971\n",
      "\t Val. Loss: 3.296 |  Val. PPL:  26.997\n",
      "Epoch: 10 | Time: 0m 21s\n",
      "\tTrain Loss: 2.021 | Train PPL:   7.543\n",
      "\t Val. Loss: 3.241 |  Val. PPL:  25.568\n"
     ]
    }
   ],
   "source": [
    "N_EPOCHS = 10\n",
    "CLIP = 1\n",
    "\n",
    "best_valid_loss = float('inf')\n",
    "\n",
    "for epoch in range(N_EPOCHS):\n",
    "    start_time = time.time()\n",
    "    \n",
    "    train_loss = train(model, train_iterator, optimizer, criterion, CLIP)\n",
    "    valid_loss = evaluate(model, valid_iterator, criterion)\n",
    "    \n",
    "    end_time = time.time()\n",
    "    \n",
    "    epoch_mins, epoch_secs = epoch_time(start_time, end_time)\n",
    "    \n",
    "    if valid_loss < best_valid_loss:\n",
    "        best_valid_loss = valid_loss\n",
    "        torch.save(model.state_dict(), 'tut4-model.pt')\n",
    "    \n",
    "    print(f'Epoch: {epoch+1:02} | Time: {epoch_mins}m {epoch_secs}s')\n",
    "    print(f'\\tTrain Loss: {train_loss:.3f} | Train PPL: {math.exp(train_loss):7.3f}')\n",
    "    print(f'\\t Val. Loss: {valid_loss:.3f} |  Val. PPL: {math.exp(valid_loss):7.3f}')"
   ]
  },
  {
   "cell_type": "code",
   "execution_count": 12,
   "id": "cbf5d78b",
   "metadata": {},
   "outputs": [
    {
     "name": "stdout",
     "output_type": "stream",
     "text": [
      "| Test Loss: 3.225 | Test PPL:  25.151 |\n"
     ]
    }
   ],
   "source": [
    "model.load_state_dict(torch.load('tut4-model_test.pt'))\n",
    "test_loss = evaluate(model, test_iterator, criterion)\n",
    "print(f'| Test Loss: {test_loss:.3f} | Test PPL: {math.exp(test_loss):7.3f} |')"
   ]
  },
  {
   "cell_type": "markdown",
   "id": "31d4061b",
   "metadata": {},
   "source": [
    "### INFERENCE"
   ]
  },
  {
   "cell_type": "code",
   "execution_count": 37,
   "id": "d8916b97",
   "metadata": {},
   "outputs": [],
   "source": [
    "def translate_sentence(\n",
    "    sentence, \n",
    "    src_field, \n",
    "    trg_field, \n",
    "    model, \n",
    "    device, \n",
    "    max_len = 50\n",
    "):\n",
    "    model.eval()\n",
    "    if isinstance(sentence, str):\n",
    "        nlp = spacy.load(\"de\")\n",
    "        tokens = [token.text.lower() for token in nlp(sntence)]\n",
    "    else: \n",
    "        tokens = [token.lower() for token in sentence]\n",
    "        \n",
    "    tokens = [src_field.init_token] + tokens + [src_field.eos_token]\n",
    "    src_indexes = [src_field.vocab.stoi[token] for token in tokens]\n",
    "    src_tensor = torch.LongTensor(src_indexes).unsqueeze(1).to(device)\n",
    "    src_len    = torch.LongTensor([len(src_indexes)])\n",
    "    \n",
    "    with torch.no_grad():\n",
    "        encoder_outputs, hidden = model.encoder(src_tensor, src_len)\n",
    "        \n",
    "    mask = model.create_mask(src_tensor)\n",
    "    trg_indexes = [trg_field.vocab.stoi[trg_field.init_token]]\n",
    "    attentions = torch.zeros(max_len, 1, len(src_indexes)).to(device)\n",
    "    \n",
    "    for i in range(max_len): \n",
    "        trg_tensor = torch.LongTensor([trg_indexes[-1]]).to(device)\n",
    "        with torch.no_grad():\n",
    "            output, hidden, attention = model.decoder(trg_tensor, hidden, encoder_outputs, mask)\n",
    "        attentions[i] = attention\n",
    "        predict_token = output.argmax(1).item()\n",
    "        trg_indexes.append(predict_token)\n",
    "        \n",
    "        if predict_token == trg_field.vocab.stoi[trg_field.eos_token]:\n",
    "            break\n",
    "            \n",
    "    trg_tokens = [trg_field.vocab.itos[i] for i in trg_indexes]\n",
    "    return trg_tokens[1:], attentions[:len(trg_tokens) - 1]\n",
    "    \n",
    "    \n",
    "def display_attention(sentence, translation, attention):\n",
    "    fig = plt.figure(figsize=(10,10))\n",
    "    ax = fig.add_subplot(111)\n",
    "    attention = attention.squeeze(1).cpu().detach().numpy()\n",
    "    cax = ax.matshow(attention, cmap='bone')\n",
    "    ax.tick_params(labelsize=15)\n",
    "    \n",
    "    x_ticks = [''] + ['<sos>'] + [t.lower() for t in sentence] + ['<eos>']\n",
    "    y_ticks = [''] + translation\n",
    "     \n",
    "    ax.set_xticklabels(x_ticks, rotation=45)\n",
    "    ax.set_yticklabels(y_ticks)\n",
    "\n",
    "    ax.xaxis.set_major_locator(ticker.MultipleLocator(1))\n",
    "    ax.yaxis.set_major_locator(ticker.MultipleLocator(1))\n",
    "\n",
    "    plt.show()\n",
    "    plt.close()"
   ]
  },
  {
   "cell_type": "code",
   "execution_count": 42,
   "id": "8f320c97",
   "metadata": {},
   "outputs": [
    {
     "name": "stdout",
     "output_type": "stream",
     "text": [
      "src = ['vier', 'typen', ',', 'von', 'denen', 'drei', 'hüte', 'tragen', 'und', 'einer', 'nicht', ',', 'springen', 'oben', 'in', 'einem', 'treppenhaus', '.']\n",
      "trg = ['four', 'guys', 'three', 'wearing', 'hats', 'one', 'not', 'are', 'jumping', 'at', 'the', 'top', 'of', 'a', 'staircase', '.']\n",
      "predicted trg = ['four', 'guys', ',', 'one', 'three', 'hats', 'are', 'three', 'hats', 'are', 'jumping', 'off', 'a', 'rock', ',', 'jumping', 'off', 'a', 'staircase', '.', '<eos>']\n"
     ]
    }
   ],
   "source": [
    "example_idx = 11\n",
    "\n",
    "src = vars(train_data.examples[example_idx])['src']\n",
    "trg = vars(train_data.examples[example_idx])['trg']\n",
    "\n",
    "print(f'src = {src}')\n",
    "print(f'trg = {trg}')\n",
    "\n",
    "translation, attention = translate_sentence(src, SRC, TRG, model, device)\n",
    "\n",
    "print(f'predicted trg = {translation}')"
   ]
  },
  {
   "cell_type": "code",
   "execution_count": 23,
   "id": "08440637",
   "metadata": {},
   "outputs": [
    {
     "name": "stderr",
     "output_type": "stream",
     "text": [
      "/tmp/ipykernel_29656/1056383586.py:62: UserWarning: FixedFormatter should only be used together with FixedLocator\n",
      "  ax.set_xticklabels(x_ticks, rotation=45)\n",
      "/tmp/ipykernel_29656/1056383586.py:63: UserWarning: FixedFormatter should only be used together with FixedLocator\n",
      "  ax.set_yticklabels(y_ticks)\n"
     ]
    },
    {
     "data": {
      "image/png": "[encoded data removed]",
      "text/plain": [
       "<Figure size 720x720 with 1 Axes>"
      ]
     },
     "metadata": {
      "needs_background": "light"
     },
     "output_type": "display_data"
    }
   ],
   "source": [
    "display_attention(src, translation, attention)"
   ]
  },
  {
   "cell_type": "code",
   "execution_count": 44,
   "id": "7cbed9f8",
   "metadata": {},
   "outputs": [
    {
     "name": "stdout",
     "output_type": "stream",
     "text": [
      "src = ['ein', 'weißer', 'junge', 'fegt', 'eine', 'veranda', 'mit', 'einem', 'großen', 'besen', '.']\n",
      "trg = ['a', 'young', 'white', 'male', 'is', 'sweeping', 'a', 'porch', 'with', 'a', 'large', 'broom', '.']\n"
     ]
    }
   ],
   "source": [
    "example_idx = 40\n",
    "\n",
    "src = vars(valid_data.examples[example_idx])['src']\n",
    "trg = vars(valid_data.examples[example_idx])['trg']\n",
    "\n",
    "print(f'src = {src}')\n",
    "print(f'trg = {trg}')"
   ]
  },
  {
   "cell_type": "code",
   "execution_count": 45,
   "id": "f08ccf97",
   "metadata": {},
   "outputs": [
    {
     "name": "stdout",
     "output_type": "stream",
     "text": [
      "predicted trg = ['a', 'white', 'boy', 'is', 'a', 'porch', 'with', 'a', 'large', 'broom', '.', '<eos>']\n"
     ]
    },
    {
     "name": "stderr",
     "output_type": "stream",
     "text": [
      "/tmp/ipykernel_29656/2106749421.py:54: UserWarning: FixedFormatter should only be used together with FixedLocator\n",
      "  ax.set_xticklabels(x_ticks, rotation=45)\n",
      "/tmp/ipykernel_29656/2106749421.py:55: UserWarning: FixedFormatter should only be used together with FixedLocator\n",
      "  ax.set_yticklabels(y_ticks)\n"
     ]
    },
    {
     "data": {
      "image/png": "[encoded data removed]",
      "text/plain": [
       "<Figure size 720x720 with 1 Axes>"
      ]
     },
     "metadata": {
      "needs_background": "light"
     },
     "output_type": "display_data"
    }
   ],
   "source": [
    "translation, attention = translate_sentence(src, SRC, TRG, model, device)\n",
    "print(f'predicted trg = {translation}')\n",
    "display_attention(src, translation, attention)"
   ]
  },
  {
   "cell_type": "markdown",
   "id": "b837ad7a",
   "metadata": {},
   "source": [
    "### BLEU"
   ]
  },
  {
   "cell_type": "code",
   "execution_count": 46,
   "id": "703567ee",
   "metadata": {},
   "outputs": [],
   "source": [
    "from torchtext.data.metrics import bleu_score\n",
    "\n",
    "def calculate_bleu(data, src_field, trg_field, model, device, max_len = 50):\n",
    "    trgs = []\n",
    "    pred_trgs = []\n",
    "    for datum in data:\n",
    "        src = vars(datum)['src']\n",
    "        trg = vars(datum)['trg']\n",
    "        \n",
    "        pred_trg, _ = translate_sentence(src, src_field, trg_field, model, device, max_len)\n",
    "        pred_trg = pred_trg[:-1]\n",
    "        \n",
    "        pred_trgs.append(pred_trg)\n",
    "        trgs.append([trg])\n",
    "        \n",
    "    return bleu_score(pred_trgs, trgs)"
   ]
  },
  {
   "cell_type": "code",
   "execution_count": 47,
   "id": "7532f1c5",
   "metadata": {},
   "outputs": [
    {
     "name": "stdout",
     "output_type": "stream",
     "text": [
      "BLEU score = 28.19\n"
     ]
    }
   ],
   "source": [
    "bleu_score = calculate_bleu(test_data, SRC, TRG, model, device)\n",
    "\n",
    "print(f'BLEU score = {bleu_score*100:.2f}')"
   ]
  },
  {
   "cell_type": "code",
   "execution_count": null,
   "id": "6fe1b7a7",
   "metadata": {},
   "outputs": [],
   "source": []
  }
 ],
 "metadata": {
  "kernelspec": {
   "display_name": "Python 3 (ipykernel)",
   "language": "python",
   "name": "python3"
  },
  "language_info": {
   "codemirror_mode": {
    "name": "ipython",
    "version": 3
   },
   "file_extension": ".py",
   "mimetype": "text/x-python",
   "name": "python",
   "nbconvert_exporter": "python",
   "pygments_lexer": "ipython3",
   "version": "3.8.13"
  }
 },
 "nbformat": 4,
 "nbformat_minor": 5
}
